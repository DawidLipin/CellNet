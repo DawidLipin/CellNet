{
 "cells": [
  {
   "cell_type": "code",
   "execution_count": 1,
   "metadata": {},
   "outputs": [],
   "source": [
    "from torch.utils.data import DataLoader\n",
    "from torchvision import datasets\n",
    "import torch\n",
    "import torchvision.transforms as transforms\n",
    "import matplotlib.pyplot as plt\n",
    "from CellNet import *"
   ]
  },
  {
   "cell_type": "code",
   "execution_count": 2,
   "metadata": {},
   "outputs": [],
   "source": [
    "dataset1 = datasets.MNIST('../data', train=True, download=True, transform=transforms.Compose([transforms.ToTensor(), transforms.Normalize((0.1307,), (0.3081,))]))\n",
    "dataset2 = datasets.MNIST('../data', train=False,transform=transforms.Compose([transforms.ToTensor(), transforms.Normalize((0.1307,), (0.3081,))]))\n",
    "\n",
    "train_loader = torch.utils.data.DataLoader(dataset1, batch_size=1)\n",
    "test_loader = torch.utils.data.DataLoader(dataset2, batch_size=1)"
   ]
  },
  {
   "cell_type": "code",
   "execution_count": 3,
   "metadata": {},
   "outputs": [],
   "source": [
    "cellnum = 4\n",
    "incellnum = 2\n",
    "outcellnum = 1"
   ]
  },
  {
   "cell_type": "code",
   "execution_count": 30,
   "metadata": {},
   "outputs": [],
   "source": [
    "class CellNetMNIST(nn.Module):\n",
    "    def __init__(self, cellnum, incellnum, outcellnum):\n",
    "        super(CellNetMNIST, self).__init__()\n",
    "        self.conv1 = nn.Conv2d(1, 32, 3, 1)\n",
    "        self.conv2 = nn.Conv2d(32, 64, 3, 1)\n",
    "        self.dropout1 = nn.Dropout(0.25)\n",
    "\n",
    "        self.cellnum = cellnum\n",
    "        self.incellnum = incellnum\n",
    "        self.outcellnum = outcellnum\n",
    "\n",
    "        self.cells = []\n",
    "        for _ in range(incellnum):\n",
    "            self.cells.append(InCell(128, 64, cellnum-1, 9216))\n",
    "\n",
    "        for _ in range(cellnum - incellnum - outcellnum):\n",
    "            self.cells.append(Cell(128, 64, cellnum-1))\n",
    "\n",
    "        for _ in range(outcellnum):\n",
    "            self.cells.append(OutCell(128, 64, cellnum-1, 10))\n",
    "\n",
    "    def forward(self, C1, x=None):\n",
    "\n",
    "        input_cores_grouped = [[] for _ in C1]\n",
    "        for idx, in_cores in enumerate(input_cores_grouped):\n",
    "            in_cores += C1[:idx] + C1[idx+1:]\n",
    "\n",
    "        if x is not None:\n",
    "            x = self.conv1(x)\n",
    "            x = F.relu(x)\n",
    "            x = self.conv2(x)\n",
    "            x = F.relu(x)\n",
    "            x = F.max_pool2d(x, 2)\n",
    "            x = self.dropout1(x)\n",
    "            # x = torch.flatten(x, 1) # Needes to be fixed to allow for batches\n",
    "            x = torch.flatten(x, 0)\n",
    "\n",
    "        new_cores = []\n",
    "        for idx, cell in enumerate(self.cells):\n",
    "            if idx < incellnum:\n",
    "                if x is None:\n",
    "                    new_core = cell(input_cores_grouped[idx])\n",
    "                else:\n",
    "                    new_core = cell(input_cores_grouped[idx], x)\n",
    "                new_cores.append(new_core)\n",
    "            elif idx >= incellnum and idx < cellnum - outcellnum:\n",
    "                new_core = cell(input_cores_grouped[idx])\n",
    "                new_cores.append(new_core)\n",
    "            else: #works only for outcellnum = 1\n",
    "                new_core, output = cell(input_cores_grouped[idx], out=True)\n",
    "                new_cores.append(new_core)\n",
    "\n",
    "        output = F.log_softmax(output, dim=0) # dim=1 when batched\n",
    "        \n",
    "        return output, new_cores"
   ]
  },
  {
   "cell_type": "code",
   "execution_count": 31,
   "metadata": {},
   "outputs": [
    {
     "data": {
      "text/plain": [
       "2636618"
      ]
     },
     "execution_count": 31,
     "metadata": {},
     "output_type": "execute_result"
    }
   ],
   "source": [
    "model = CellNetMNIST(cellnum, incellnum, outcellnum)\n",
    "def get_n_params_cell(model):\n",
    "    pp=0\n",
    "    for p in list(model.parameters()):\n",
    "        nn=1\n",
    "        for s in list(p.size()):\n",
    "            nn = nn*s\n",
    "        pp += nn\n",
    "    for cell in model.cells:\n",
    "        for p in list(cell.parameters()):\n",
    "            nn=1\n",
    "            for s in list(p.size()):\n",
    "                nn = nn*s\n",
    "            pp += nn\n",
    "    return pp\n",
    "\n",
    "get_n_params_cell(model)"
   ]
  },
  {
   "cell_type": "code",
   "execution_count": 39,
   "metadata": {},
   "outputs": [],
   "source": [
    "def train(model, train_loader, optimizer, epoch, prev_cores):\n",
    "    model.train()\n",
    "    \n",
    "    for batch_idx, (data, target) in enumerate(train_loader):\n",
    "    \n",
    "        optimizer.zero_grad()\n",
    "\n",
    "        output, new_cores = model(prev_cores, data)\n",
    "\n",
    "        loss = F.nll_loss(torch.unsqueeze(output,0), target) # Unsqueeze wont be needed when batched\n",
    "        loss.backward(retain_graph=True)\n",
    "\n",
    "        for idx, new_core in enumerate(new_cores):\n",
    "            F.mse_loss(new_core, prev_cores[idx]).backward(retain_graph=True)\n",
    "        \n",
    "        optimizer.step()\n",
    "\n",
    "        if batch_idx % 6000 == 0:\n",
    "            print('Train Epoch: {} [{}/{} ({:.0f}%)]\\tLoss: {:.6f}'.format(\n",
    "                epoch, batch_idx * len(data), len(train_loader.dataset),\n",
    "                100. * batch_idx / len(train_loader), loss.item()))\n",
    "        \n",
    "        \n",
    "\n",
    "\n",
    "\n",
    "\n",
    "\n",
    "        \n",
    "\n",
    "        # return new_cores"
   ]
  },
  {
   "cell_type": "code",
   "execution_count": 40,
   "metadata": {},
   "outputs": [
    {
     "name": "stdout",
     "output_type": "stream",
     "text": [
      "0\n",
      "Train Epoch: 1 [0/60000 (0%)]\tLoss: 2.414382\n"
     ]
    }
   ],
   "source": [
    "model = CellNetMNIST(cellnum, incellnum, outcellnum)\n",
    "\n",
    "all_params = []\n",
    "for cell in model.cells:\n",
    "    all_params.append({'params': cell.parameters()})\n",
    "\n",
    "all_params +=[\n",
    "        {'params': model.conv1.parameters()},\n",
    "        {'params': model.conv2.parameters()},\n",
    "        {'params': model.dropout1.parameters()}\n",
    "    ]\n",
    "\n",
    "optimizer = torch.optim.Adam(all_params)\n",
    "\n",
    "fake_cores = []\n",
    "for _ in range(cellnum):\n",
    "    fake_cores.append(torch.ones(128))\n",
    "\n",
    "_ = train(model, train_loader, optimizer, 1, fake_cores)"
   ]
  }
 ],
 "metadata": {
  "kernelspec": {
   "display_name": "OmniNet",
   "language": "python",
   "name": "python3"
  },
  "language_info": {
   "codemirror_mode": {
    "name": "ipython",
    "version": 3
   },
   "file_extension": ".py",
   "mimetype": "text/x-python",
   "name": "python",
   "nbconvert_exporter": "python",
   "pygments_lexer": "ipython3",
   "version": "3.11.11"
  }
 },
 "nbformat": 4,
 "nbformat_minor": 2
}
